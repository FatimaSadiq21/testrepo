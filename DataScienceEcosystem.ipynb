{
 "cells": [
  {
   "cell_type": "markdown",
   "metadata": {},
   "source": [
    "<center>\n",
    "    <img src=\"https://cf-courses-data.s3.us.cloud-object-storage.appdomain.cloud/IBMDeveloperSkillsNetwork-DS0105EN-SkillsNetwork/labs/Module2/images/SN_web_lightmode.png\" width=\"300\" alt=\"cognitiveclass.ai logo\">\n",
    "</center>\n"
   ]
  },
  {
   "cell_type": "markdown",
   "metadata": {},
   "source": [
    "#### Add your code below following the instructions given in the course\n"
   ]
  },
  {
   "cell_type": "markdown",
   "metadata": {},
   "source": [
    "# Data Science Tools and Ecosystem\n",
    "In this notebook, Data Science Tools and Ecosystem are summarized.\n"
   ]
  },
  {
   "cell_type": "markdown",
   "metadata": {},
   "source": [
    "**Objectives:**  \n",
    "\n",
    "- List popular languages for Data Science  \n",
    "- Identify commonly used Data Science libraries  \n",
    "- Explore various Data Science tools and ecosystems  \n",
    "- Perform basic arithmetic operations in Python  \n",
    "- Convert time units (e.g., minutes to hours) using Python  \n"
   ]
  },
  {
   "cell_type": "markdown",
   "metadata": {},
   "source": [
    "## Data Science Languages\n",
    "\n",
    "Some of the commonly used languages in Data Science include:\n",
    "\n",
    "- Python  \n",
    "- R  \n",
    "- SQL  \n",
    "- Julia  \n",
    "- Scala  \n",
    "- Java  \n",
    "- C++  \n",
    "- MATLAB  \n",
    "- JavaScript (for data visualization)\n"
   ]
  },
  {
   "cell_type": "markdown",
   "metadata": {},
   "source": [
    "## Data Science Libraries\n",
    "\n",
    "Some of the popular libraries used in Data Science include:\n",
    "\n",
    "- **Python Libraries**:\n",
    "  - NumPy\n",
    "  - Pandas\n",
    "  - Matplotlib\n",
    "  - Seaborn\n",
    "  - Scikit-learn\n",
    "  - TensorFlow\n",
    "  - PyTorch\n",
    "  - Keras\n",
    "  - Statsmodels\n",
    "\n",
    "- **R Libraries**:\n",
    "  - ggplot2\n",
    "  - dplyr\n",
    "  - tidyr\n",
    "  - caret\n",
    "  - Shiny\n",
    "\n",
    "- **Other Libraries**:\n",
    "  - Apache Spark (PySpark)\n",
    "  - H2O.ai\n"
   ]
  },
  {
   "cell_type": "markdown",
   "metadata": {},
   "source": [
    "## Data Science Tools\n",
    "\n",
    "Below is a table of some commonly used Data Science tools:\n",
    "\n",
    "| Tool              | Category                | Description |\n",
    "|------------------|----------------------|-------------|\n",
    "| Jupyter Notebook | IDE & Notebook        | Interactive environment for coding and visualization |\n",
    "| RStudio         | IDE                   | IDE for R programming with built-in data visualization |\n",
    "| Apache Spark    | Big Data Processing   | Distributed computing for large-scale data processing |\n",
    "| TensorFlow      | Machine Learning      | Open-source library for deep learning and AI |\n",
    "| PyTorch        | Machine Learning      | Deep learning framework with dynamic computation graphs |\n",
    "| Tableau         | Data Visualization    | Business intelligence tool for data visualization |\n",
    "| Power BI       | Data Visualization    | Microsoft tool for interactive visual analytics |\n",
    "| Hadoop         | Big Data Processing   | Open-source framework for distributed storage & processing |\n",
    "| SQL Server     | Database Management   | Microsoft relational database management system |\n",
    "| Excel         | Data Analysis         | Spreadsheet tool for statistical and data analysis |\n",
    "\n"
   ]
  },
  {
   "cell_type": "markdown",
   "metadata": {},
   "source": [
    "## Arithmetic Expression Examples\n",
    "\n",
    "Arithmetic expressions are mathematical calculations that include addition, subtraction, multiplication, and division.\n",
    "\n",
    "### Examples:\n",
    "- **Addition**: \\( 5 + 3 = 8 \\)  \n",
    "- **Subtraction**: \\( 10 - 4 = 6 \\)  \n",
    "- **Multiplication**: \\( 6 \\times 7 = 42 \\)  \n",
    "- **Division**: \\( 20 \\div 5 = 4 \\)  \n",
    "- **Exponentiation**: \\( 2^3 = 8 \\)  \n",
    "- **Modulo (Remainder)**: \\( 10 \\mod 3 = 1 \\)  \n",
    "\n",
    "In programming, these operations can be performed using symbols like `+`, `-`, `*`, `/`, `**`, and `%` in languages such as Python.\n"
   ]
  },
  {
   "cell_type": "code",
   "execution_count": 8,
   "metadata": {},
   "outputs": [
    {
     "name": "stdout",
     "output_type": "stream",
     "text": [
      "Multiplication Result: 12\n",
      "Addition Result: 17\n"
     ]
    }
   ],
   "source": [
    "# Multiplication and Addition Example\n",
    "a = 4\n",
    "b = 3\n",
    "c=5\n",
    "\n",
    "# Multiply and Add\n",
    "multiplication_result = a * b\n",
    "addition_result = (3*4)+5\n",
    "\n",
    "# Print the results\n",
    "print(\"Multiplication Result:\", multiplication_result)\n",
    "print(\"Addition Result:\", addition_result)\n"
   ]
  },
  {
   "cell_type": "code",
   "execution_count": 7,
   "metadata": {},
   "outputs": [
    {
     "name": "stdout",
     "output_type": "stream",
     "text": [
      "200 minutes is equal to 3.33 hours\n"
     ]
    }
   ],
   "source": [
    "# Convert minutes to hours\n",
    "minutes = 200  # Example value\n",
    "\n",
    "# Conversion formula\n",
    "hours = minutes / 60\n",
    "\n",
    "# Displaying result\n",
    "print(f\"{minutes} minutes is equal to {hours:.2f} hours\")\n"
   ]
  },
  {
   "cell_type": "markdown",
   "metadata": {},
   "source": [
    "## Author  \n",
    "\n",
    "Fatima Sadiq\n"
   ]
  },
  {
   "cell_type": "code",
   "execution_count": null,
   "metadata": {},
   "outputs": [],
   "source": []
  }
 ],
 "metadata": {
  "kernelspec": {
   "display_name": "Python 3 (ipykernel)",
   "language": "python",
   "name": "python3"
  },
  "language_info": {
   "codemirror_mode": {
    "name": "ipython",
    "version": 3
   },
   "file_extension": ".py",
   "mimetype": "text/x-python",
   "name": "python",
   "nbconvert_exporter": "python",
   "pygments_lexer": "ipython3",
   "version": "3.12.8"
  }
 },
 "nbformat": 4,
 "nbformat_minor": 4
}
